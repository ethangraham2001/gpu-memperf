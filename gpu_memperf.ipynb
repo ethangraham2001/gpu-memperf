{
  "nbformat": 4,
  "nbformat_minor": 0,
  "metadata": {
    "colab": {
      "provenance": [],
      "gpuType": "T4",
      "toc_visible": true
    },
    "kernelspec": {
      "name": "python3",
      "display_name": "Python 3"
    },
    "language_info": {
      "name": "python"
    },
    "accelerator": "GPU"
  },
  "cells": [
    {
      "cell_type": "markdown",
      "source": [
        "## Check CUDA"
      ],
      "metadata": {
        "id": "OklSpQBQZJa7"
      }
    },
    {
      "cell_type": "code",
      "execution_count": 1,
      "metadata": {
        "colab": {
          "base_uri": "https://localhost:8080/"
        },
        "id": "cNj_Wu2bkTZ6",
        "outputId": "1710be10-a017-4366-dda9-f0487c80625c"
      },
      "outputs": [
        {
          "output_type": "stream",
          "name": "stdout",
          "text": [
            "nvcc: NVIDIA (R) Cuda compiler driver\n",
            "Copyright (c) 2005-2024 NVIDIA Corporation\n",
            "Built on Thu_Jun__6_02:18:23_PDT_2024\n",
            "Cuda compilation tools, release 12.5, V12.5.82\n",
            "Build cuda_12.5.r12.5/compiler.34385749_0\n"
          ]
        }
      ],
      "source": [
        "!nvcc --version"
      ]
    },
    {
      "cell_type": "code",
      "source": [
        "!nvidia-smi"
      ],
      "metadata": {
        "id": "RnQO6ru4ZZFa",
        "colab": {
          "base_uri": "https://localhost:8080/"
        },
        "outputId": "c43219b9-1f1a-475b-df3a-37019e1d6d89"
      },
      "execution_count": 2,
      "outputs": [
        {
          "output_type": "stream",
          "name": "stdout",
          "text": [
            "Tue Oct 28 12:32:43 2025       \n",
            "+-----------------------------------------------------------------------------------------+\n",
            "| NVIDIA-SMI 550.54.15              Driver Version: 550.54.15      CUDA Version: 12.4     |\n",
            "|-----------------------------------------+------------------------+----------------------+\n",
            "| GPU  Name                 Persistence-M | Bus-Id          Disp.A | Volatile Uncorr. ECC |\n",
            "| Fan  Temp   Perf          Pwr:Usage/Cap |           Memory-Usage | GPU-Util  Compute M. |\n",
            "|                                         |                        |               MIG M. |\n",
            "|=========================================+========================+======================|\n",
            "|   0  Tesla T4                       Off |   00000000:00:04.0 Off |                    0 |\n",
            "| N/A   42C    P8              9W /   70W |       0MiB /  15360MiB |      0%      Default |\n",
            "|                                         |                        |                  N/A |\n",
            "+-----------------------------------------+------------------------+----------------------+\n",
            "                                                                                         \n",
            "+-----------------------------------------------------------------------------------------+\n",
            "| Processes:                                                                              |\n",
            "|  GPU   GI   CI        PID   Type   Process name                              GPU Memory |\n",
            "|        ID   ID                                                               Usage      |\n",
            "|=========================================================================================|\n",
            "|  No running processes found                                                             |\n",
            "+-----------------------------------------------------------------------------------------+\n"
          ]
        }
      ]
    },
    {
      "cell_type": "markdown",
      "source": [
        "## Clone Project"
      ],
      "metadata": {
        "id": "f1FFqX-fZVOz"
      }
    },
    {
      "cell_type": "code",
      "source": [
        "!git clone https://github.com/ethangraham2001/gpu-memperf"
      ],
      "metadata": {
        "colab": {
          "base_uri": "https://localhost:8080/"
        },
        "id": "sChRQ4hbko3z",
        "outputId": "703dce55-c032-4b9c-f54a-6acea26f038d"
      },
      "execution_count": 3,
      "outputs": [
        {
          "output_type": "stream",
          "name": "stdout",
          "text": [
            "Cloning into 'gpu-memperf'...\n",
            "remote: Enumerating objects: 156, done.\u001b[K\n",
            "remote: Counting objects: 100% (156/156), done.\u001b[K\n",
            "remote: Compressing objects: 100% (100/100), done.\u001b[K\n",
            "remote: Total 156 (delta 72), reused 116 (delta 37), pack-reused 0 (from 0)\u001b[K\n",
            "Receiving objects: 100% (156/156), 75.99 KiB | 1.15 MiB/s, done.\n",
            "Resolving deltas: 100% (72/72), done.\n"
          ]
        }
      ]
    },
    {
      "cell_type": "code",
      "source": [
        "cd gpu-memperf/"
      ],
      "metadata": {
        "colab": {
          "base_uri": "https://localhost:8080/"
        },
        "id": "P1wYGAm8krKf",
        "outputId": "571f1194-6c90-46a9-95ff-7a480e1d8517"
      },
      "execution_count": 4,
      "outputs": [
        {
          "output_type": "stream",
          "name": "stdout",
          "text": [
            "/content/gpu-memperf\n"
          ]
        }
      ]
    },
    {
      "cell_type": "code",
      "source": [
        "!git fetch\n",
        "!git checkout master\n",
        "# !git checkout bench/<feature>"
      ],
      "metadata": {
        "colab": {
          "base_uri": "https://localhost:8080/"
        },
        "id": "qRObkeTJZ2ht",
        "outputId": "c1a8b7e5-8cbe-400c-e456-7781bd2239cc"
      },
      "execution_count": 5,
      "outputs": [
        {
          "output_type": "stream",
          "name": "stdout",
          "text": [
            "Branch 'bench/shared_memory' set up to track remote branch 'bench/shared_memory' from 'origin'.\n",
            "Switched to a new branch 'bench/shared_memory'\n"
          ]
        }
      ]
    },
    {
      "cell_type": "markdown",
      "source": [
        "## Run Benchmark"
      ],
      "metadata": {
        "id": "H-Hv8bG8Z-eV"
      }
    },
    {
      "cell_type": "code",
      "source": [
        "!git pull\n",
        "!make"
      ],
      "metadata": {
        "colab": {
          "base_uri": "https://localhost:8080/"
        },
        "id": "BcjNPTjKkvAg",
        "outputId": "152290d9-8176-4da1-b8c2-e6e2ca2872c6"
      },
      "execution_count": 6,
      "outputs": [
        {
          "output_type": "stream",
          "name": "stdout",
          "text": [
            "Already up to date.\n",
            "nvcc -std=c++20 -O3 -arch=sm_80 -Werror all-warnings -Xcompiler \"-Wall,-Wextra,-Wconversion,-Wshadow\" -Xcompiler \"-Wno-unused-parameter\"   -I./include src/main.cc kernels/clock64.cu kernels/pchase.cu kernels/shared_mem_bandwidth.cu -o gpu-memperf\n"
          ]
        }
      ]
    },
    {
      "cell_type": "code",
      "source": [
        "!./gpu-memperf shared_mem_bandwidth sizes=8192,16384,32768,49152 threads=32,64,128,256,512 num_iters=10000 reps=3"
      ],
      "metadata": {
        "id": "EbOC85gGlA-m",
        "colab": {
          "base_uri": "https://localhost:8080/"
        },
        "outputId": "b0ee79ff-d20d-426e-cbaa-0fff86b409ea"
      },
      "execution_count": 12,
      "outputs": [
        {
          "output_type": "stream",
          "name": "stdout",
          "text": [
            "[2025-10-28 13:07:06]  wrote results to \"shared_mem_bandwidth_13_07_06\"\n"
          ]
        }
      ]
    },
    {
      "cell_type": "code",
      "source": [],
      "metadata": {
        "id": "wGHZRNIQbHmU"
      },
      "execution_count": null,
      "outputs": []
    }
  ]
}